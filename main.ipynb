{
 "cells": [
  {
   "cell_type": "code",
   "execution_count": 70,
   "metadata": {},
   "outputs": [],
   "source": [
    "from semantic_search import SemanticSearch \n",
    "import pandas as pd\n",
    "import openai\n",
    "import praw\n",
    "import os\n",
    "import re\n",
    "\n",
    "searcher = SemanticSearch()\n",
    "\n",
    "pd.set_option('max_colwidth', 100)\n",
    "pd.set_option('display.max_columns', None)"
   ]
  },
  {
   "cell_type": "code",
   "execution_count": 71,
   "metadata": {},
   "outputs": [],
   "source": [
    "REDDIT_CLIENT_ID = os.environ.get('REDDIT_CLIENT_ID')\n",
    "REDDIT_CLIENT_SECRET = os.environ.get('REDDIT_CLIENT_SECRET')\n",
    "REDDIT_USER_AGENT = os.environ.get('REDDIT_USER_AGENT')\n",
    "\n",
    "reddit = praw.Reddit(client_id=REDDIT_CLIENT_ID, client_secret=REDDIT_CLIENT_SECRET, user_agent=REDDIT_USER_AGENT)"
   ]
  },
  {
   "cell_type": "code",
   "execution_count": 72,
   "metadata": {},
   "outputs": [],
   "source": [
    "def generate_topics(query, model=\"gpt-3.5-turbo\"):\n",
    "\n",
    "    messages = [\n",
    "        {\"role\": \"user\", \"content\": f\"Take this query '{query}' and return a list of topics to input in Search so it returns good results. Each topic must stand on its own with respect to the relation of the question.\"},\n",
    "    ]\n",
    "\n",
    "    response = openai.ChatCompletion.create(\n",
    "        model=model,\n",
    "        messages=messages\n",
    "    )\n",
    "\n",
    "    response_message = response[\"choices\"][0][\"message\"][\"content\"]\n",
    "\n",
    "    topics = re.sub(r'^\\d+\\.\\s*', '', response_message, flags=re.MULTILINE).split(\"\\n\")\n",
    "\n",
    "    return topics"
   ]
  },
  {
   "cell_type": "code",
   "execution_count": 73,
   "metadata": {},
   "outputs": [
    {
     "name": "stdout",
     "output_type": "stream",
     "text": [
      "['Top-rated pizza places in NYC', 'Best New York-style pizza restaurants', 'Highest reviewed pizzerias in New York City', 'Best pizza joints in Manhattan', 'Award-winning pizza spots in NYC', 'Famous pizza places in New York', 'Top 10 pizza places to try in NYC', 'Authentic pizza restaurants in New York', 'Best pizza slices in NYC', 'Gourmet pizza places in New York City']\n"
     ]
    }
   ],
   "source": [
    "query = \"Best pizza place in NYC\"\n",
    "topics = generate_topics(query)\n",
    "print(topics)"
   ]
  },
  {
   "cell_type": "code",
   "execution_count": 74,
   "metadata": {},
   "outputs": [],
   "source": [
    "posts = []\n",
    "\n",
    "for topic in topics:\n",
    "    for post in reddit.subreddit(\"all\").search(\n",
    "    topic, limit=200):\n",
    "        posts.append([post.title, post.subreddit, post.selftext])\n",
    "\n",
    "posts = pd.DataFrame(posts,columns=['title', 'subreddit', 'text'])"
   ]
  },
  {
   "cell_type": "code",
   "execution_count": 75,
   "metadata": {},
   "outputs": [],
   "source": [
    "# Segments is title, text and subreddit at the end\n",
    "segments = (posts['title'] + ' ' + posts['subreddit'].astype(str)).tolist()"
   ]
  },
  {
   "cell_type": "code",
   "execution_count": 76,
   "metadata": {},
   "outputs": [
    {
     "name": "stdout",
     "output_type": "stream",
     "text": [
      "Fitting with n=5...\n"
     ]
    }
   ],
   "source": [
    "searcher.fit(segments)"
   ]
  },
  {
   "cell_type": "code",
   "execution_count": 77,
   "metadata": {},
   "outputs": [],
   "source": [
    "# TODO: Add distance check here\n",
    "subreddits = set([result.split()[-1] for result in searcher(query)])"
   ]
  },
  {
   "cell_type": "code",
   "execution_count": 78,
   "metadata": {},
   "outputs": [],
   "source": [
    "# Convert to string and \"+\" in between\n",
    "subreddits = \"+\".join(subreddits)"
   ]
  },
  {
   "cell_type": "code",
   "execution_count": 79,
   "metadata": {},
   "outputs": [],
   "source": [
    "final_posts = []\n",
    "\n",
    "for post in reddit.subreddit(subreddits).search(\n",
    "    query, limit=100):\n",
    "        final_posts.append([post.title, post.subreddit, post.selftext])\n",
    "\n",
    "final_posts = pd.DataFrame(final_posts,columns=['title', 'subreddit', 'text'])"
   ]
  },
  {
   "cell_type": "code",
   "execution_count": 80,
   "metadata": {},
   "outputs": [],
   "source": [
    "final_segments = (final_posts['title'] + ' ' + final_posts['subreddit'].astype(str)).tolist()"
   ]
  },
  {
   "cell_type": "code",
   "execution_count": 81,
   "metadata": {},
   "outputs": [],
   "source": [
    "final_searcher = SemanticSearch()"
   ]
  },
  {
   "cell_type": "code",
   "execution_count": 82,
   "metadata": {},
   "outputs": [
    {
     "name": "stdout",
     "output_type": "stream",
     "text": [
      "Fitting with n=5...\n"
     ]
    }
   ],
   "source": [
    "final_searcher.fit(final_segments)"
   ]
  },
  {
   "cell_type": "code",
   "execution_count": 83,
   "metadata": {},
   "outputs": [
    {
     "data": {
      "text/plain": [
       "['Best Pizza in Manhattan? FoodNYC',\n",
       " 'Best Pizza slice in NYC? FoodNYC',\n",
       " 'Best Pizza, Manhattan NYC at 40.713050, -74.007230 The8BitRyanReddit',\n",
       " \"Controversial: What's the best pizza place in all of NYC? newyorkcity\",\n",
       " \"Best pizza place in NYC that tourists DON'T know? circlejerknyc\"]"
      ]
     },
     "execution_count": 83,
     "metadata": {},
     "output_type": "execute_result"
    }
   ],
   "source": [
    "final_searcher(query)"
   ]
  }
 ],
 "metadata": {
  "kernelspec": {
   "display_name": "Python 3",
   "language": "python",
   "name": "python3"
  },
  "language_info": {
   "codemirror_mode": {
    "name": "ipython",
    "version": 3
   },
   "file_extension": ".py",
   "mimetype": "text/x-python",
   "name": "python",
   "nbconvert_exporter": "python",
   "pygments_lexer": "ipython3",
   "version": "3.8.0"
  },
  "orig_nbformat": 4
 },
 "nbformat": 4,
 "nbformat_minor": 2
}
