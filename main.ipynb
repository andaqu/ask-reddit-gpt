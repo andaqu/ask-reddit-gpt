{
 "cells": [
  {
   "cell_type": "code",
   "execution_count": 30,
   "metadata": {},
   "outputs": [],
   "source": [
    "import pandas as pd\n",
    "import praw\n",
    "import os\n",
    "\n",
    "pd.set_option('max_colwidth', 100)\n",
    "pd.set_option('display.max_columns', None)"
   ]
  },
  {
   "cell_type": "code",
   "execution_count": 1,
   "metadata": {},
   "outputs": [],
   "source": [
    "REDDIT_CLIENT_ID = os.environ.get('REDDIT_CLIENT_ID')\n",
    "REDDIT_CLIENT_SECRET = os.environ.get('REDDIT_CLIENT_SECRET')\n",
    "REDDIT_USER_AGENT = os.environ.get('REDDIT_USER_AGENT')\n",
    "\n",
    "reddit = praw.Reddit(client_id=REDDIT_CLIENT_ID, client_secret=REDDIT_CLIENT_SECRET, user_agent=REDDIT_USER_AGENT)"
   ]
  },
  {
   "cell_type": "code",
   "execution_count": 233,
   "metadata": {},
   "outputs": [],
   "source": [
    "posts = []\n",
    "comments = []\n",
    "\n",
    "query = \"Which place sells the best pastizzis in Malta?\"\n",
    "\n",
    "for post in reddit.subreddit(\"all\").search(\"Malta cuisine\", limit=200):\n",
    "    posts.append([post.title, post.subreddit, post.selftext, post.created])\n",
    "\n",
    "posts = pd.DataFrame(posts,columns=['title', 'subreddit', 'text', 'created'])"
   ]
  }
 ],
 "metadata": {
  "kernelspec": {
   "display_name": "Python 3",
   "language": "python",
   "name": "python3"
  },
  "language_info": {
   "codemirror_mode": {
    "name": "ipython",
    "version": 3
   },
   "file_extension": ".py",
   "mimetype": "text/x-python",
   "name": "python",
   "nbconvert_exporter": "python",
   "pygments_lexer": "ipython3",
   "version": "3.8.0"
  },
  "orig_nbformat": 4
 },
 "nbformat": 4,
 "nbformat_minor": 2
}
